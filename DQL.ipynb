{
  "nbformat": 4,
  "nbformat_minor": 0,
  "metadata": {
    "colab": {
      "name": "DQL.ipynb",
      "provenance": [],
      "collapsed_sections": [],
      "toc_visible": true,
      "authorship_tag": "ABX9TyNQ1o8cTCus7ug8ukLlIzq+",
      "include_colab_link": true
    },
    "kernelspec": {
      "name": "python3",
      "display_name": "Python 3"
    },
    "accelerator": "GPU"
  },
  "cells": [
    {
      "cell_type": "markdown",
      "metadata": {
        "id": "view-in-github",
        "colab_type": "text"
      },
      "source": [
        "<a href=\"https://colab.research.google.com/github/raphaelreinauer/Deep_Q_learning/blob/master/DQL.ipynb\" target=\"_parent\"><img src=\"https://colab.research.google.com/assets/colab-badge.svg\" alt=\"Open In Colab\"/></a>"
      ]
    },
    {
      "cell_type": "code",
      "metadata": {
        "id": "gA6wOHqTUZdd",
        "colab_type": "code",
        "outputId": "a80c3fcf-f8ac-4a5e-8878-310d2051daf5",
        "colab": {
          "base_uri": "https://localhost:8080/",
          "height": 1000
        }
      },
      "source": [
        "import gym\n",
        "import numpy as np\n",
        "import matplotlib.pyplot as plt\n",
        "import torch.nn as nn\n",
        "import torch.nn.functional as F\n",
        "import torch.optim as optim\n",
        "import torch as T\n",
        "\n",
        "# standard learning plot function\n",
        "def plot_learning_curve(x, scores, epsilons, filename):\n",
        "    fig = plt.figure()\n",
        "    ax = fig.add_subplot(111, label=\"1\")\n",
        "    ax2 = fig.add_subplot(111, label=\"2\", frame_on=False)\n",
        "\n",
        "    ax.plot(x, epsilons, color=\"C0\")\n",
        "    ax.set_xlabel(\"Training Steps\", color=\"C0\")\n",
        "    ax.set_ylabel(\"Epsilon\", color=\"C0\")\n",
        "    ax.tick_params(axis='x', colors=\"C0\")\n",
        "    ax.tick_params(axis='y', colors=\"C0\")\n",
        "\n",
        "    N = len(scores)\n",
        "    running_avg = np.empty(N)\n",
        "    for t in range(N):\n",
        "        running_avg[t] = np.mean(scores[max(0,t-100):(t+1)])\n",
        "    \n",
        "    ax2.scatter(x, running_avg, color=\"C1\")\n",
        "    ax2.axes.get_xaxis().set_visible(False)\n",
        "    ax2.yaxis.tick_right()\n",
        "    ax2.set_ylabel('Score', color=\"C1\")\n",
        "    ax2.yaxis.set_label_position('right')\n",
        "    ax2.tick_params(axis='y', colors=\"C1\")\n",
        "\n",
        "    plt.savefig(filename)\n",
        "\n",
        "\n",
        "class LinearDeepQNetwork(nn.Module):\n",
        "    def __init__(self, lr, n_actions, input_dims):\n",
        "        super(LinearDeepQNetwork, self).__init__()\n",
        "\n",
        "        #first fully connected layer with 128 neurons\n",
        "        self.fc1 = nn.Linear(*input_dims, 128)\n",
        "        #output layer\n",
        "        self.fc2 = nn.Linear(128, n_actions)\n",
        "\n",
        "        #initiate optimzier and loss\n",
        "        self.optimizer = optim.Adam(self.parameters(), lr=lr)\n",
        "        self.loss = nn.MSELoss()\n",
        "        #set device to cuda if possible\n",
        "        self.device = T.device('cuda:0' if T.cuda.is_available() else 'cpu')\n",
        "        self.to(self.device)\n",
        "\n",
        "    # forward propagation\n",
        "    def forward(self, state):\n",
        "        layer1 = F.relu(self.fc1(state))\n",
        "        actions = self.fc2(layer1)\n",
        "\n",
        "        return actions\n",
        "\n",
        "class Agent():\n",
        "    def __init__(self, input_dims, n_actions, lr=0.01, gamma=0.99,\\\n",
        "                 epsilon=1.0, eps_dec=1e-5, eps_min=0.01):\n",
        "        self.lr = lr\n",
        "        self.input_dims = input_dims\n",
        "        self.n_actions = n_actions\n",
        "        self.gamma = gamma\n",
        "        self.epsilon = epsilon\n",
        "        self.eps_dec = eps_dec\n",
        "        self.eps_min = eps_min\n",
        "        self.action_space = [i for i in range(self.n_actions)]\n",
        "\n",
        "        self.Q = LinearDeepQNetwork(self.lr, self.n_actions, self.input_dims)\n",
        "\n",
        "    def choose_action(self, observation):\n",
        "        if np.random.random() > self.epsilon:\n",
        "            state = T.tensor(observation, dtype=T.float).to(self.Q.device)\n",
        "            actions = self.Q.forward(state)\n",
        "            action = T.argmax(actions).item()\n",
        "        else:\n",
        "            action = np.random.choice(self.action_space)\n",
        "\n",
        "        return action\n",
        "        \n",
        "    # decrement epsilon linearly for the epsilon greedy policy\n",
        "    def decrement_epsilon(self):\n",
        "        self.epsilon = self.epsilon - self.eps_dec \\\n",
        "                if self.epsilon > self.eps_min else self.eps_min\n",
        "    \n",
        "    \n",
        "    def learn(self, state, action, reward, state_):\n",
        "        self.Q.optimizer.zero_grad()\n",
        "        states = T.tensor(state, dtype=T.float).to(self.Q.device)\n",
        "        actions = T.tensor(action).to(self.Q.device)\n",
        "        reward = T.tensor(reward).to(self.Q.device)\n",
        "        states_ = T.tensor(state_, dtype=T.float).to(self.Q.device)\n",
        "\n",
        "        # predicted Q-value\n",
        "        q_pred = self.Q.forward(states)[actions]\n",
        "\n",
        "        # maximal Q-value\n",
        "        q_next = self.Q.forward(states_).max()\n",
        "\n",
        "        q_target = reward + self.gamma*q_next\n",
        "\n",
        "\n",
        "        loss = self.Q.loss(q_target, q_pred).to(self.Q.device)\n",
        "        # backward propagation\n",
        "        self.Q.optimizer.step()\n",
        "        self.decrement_epsilon()\n",
        "\n",
        "if __name__ == '__main__':\n",
        "    env = gym.make('CartPole-v1')\n",
        "    n_games = 10000\n",
        "    scores = []\n",
        "    eps_history = []\n",
        "\n",
        "    # initiate agent\n",
        "    agent = Agent(lr=0.0001, input_dims=env.observation_space.shape,\n",
        "                  n_actions=env.action_space.n)\n",
        "    for i in range(n_games):\n",
        "        score = 0\n",
        "        done = False\n",
        "        obs = env.reset()\n",
        "\n",
        "        while not done:\n",
        "            action = agent.choose_action(obs)\n",
        "            obs_, reward, done, info = env.step(action)\n",
        "            score += reward\n",
        "            agent.learn(obs, action, reward, obs_)\n",
        "            obs = obs_\n",
        "        scores.append(score)\n",
        "        eps_history.append(agent.epsilon)\n",
        "\n",
        "        if i%100 == 0:\n",
        "            avg_score = np.mean(scores[-100:])\n",
        "            print('episode', i, 'score %1f avg_score %.1f epsilon %.2f' %\n",
        "            (score, avg_score, agent.epsilon))\n",
        "\n",
        "    filename = 'cartpolse_naiv_dqn.png'\n",
        "    x = [i+1 for i in range(n_games)]\n",
        "    \n"
      ],
      "execution_count": 0,
      "outputs": [
        {
          "output_type": "stream",
          "text": [
            "episode 0 score 21.000000 avg_score 21.0 epsilon 1.00\n",
            "episode 100 score 30.000000 avg_score 23.1 epsilon 0.98\n",
            "episode 200 score 30.000000 avg_score 22.3 epsilon 0.95\n",
            "episode 300 score 14.000000 avg_score 23.8 epsilon 0.93\n",
            "episode 400 score 47.000000 avg_score 24.4 epsilon 0.91\n",
            "episode 500 score 20.000000 avg_score 26.8 epsilon 0.88\n",
            "episode 600 score 25.000000 avg_score 28.4 epsilon 0.85\n",
            "episode 700 score 20.000000 avg_score 27.5 epsilon 0.82\n",
            "episode 800 score 19.000000 avg_score 32.0 epsilon 0.79\n",
            "episode 900 score 46.000000 avg_score 33.2 epsilon 0.76\n",
            "episode 1000 score 17.000000 avg_score 35.4 epsilon 0.72\n",
            "episode 1100 score 56.000000 avg_score 33.5 epsilon 0.69\n",
            "episode 1200 score 32.000000 avg_score 41.4 epsilon 0.65\n",
            "episode 1300 score 48.000000 avg_score 37.8 epsilon 0.61\n",
            "episode 1400 score 35.000000 avg_score 43.1 epsilon 0.57\n",
            "episode 1500 score 46.000000 avg_score 43.7 epsilon 0.52\n",
            "episode 1600 score 58.000000 avg_score 43.5 epsilon 0.48\n",
            "episode 1700 score 16.000000 avg_score 46.4 epsilon 0.43\n",
            "episode 1800 score 46.000000 avg_score 46.9 epsilon 0.39\n",
            "episode 1900 score 52.000000 avg_score 50.2 epsilon 0.34\n",
            "episode 2000 score 33.000000 avg_score 47.1 epsilon 0.29\n",
            "episode 2100 score 38.000000 avg_score 47.7 epsilon 0.24\n",
            "episode 2200 score 44.000000 avg_score 52.5 epsilon 0.19\n",
            "episode 2300 score 35.000000 avg_score 52.0 epsilon 0.14\n",
            "episode 2400 score 51.000000 avg_score 54.4 epsilon 0.08\n",
            "episode 2500 score 45.000000 avg_score 52.5 epsilon 0.03\n",
            "episode 2600 score 29.000000 avg_score 53.3 epsilon 0.01\n",
            "episode 2700 score 61.000000 avg_score 54.1 epsilon 0.01\n",
            "episode 2800 score 48.000000 avg_score 53.7 epsilon 0.01\n",
            "episode 2900 score 51.000000 avg_score 55.5 epsilon 0.01\n",
            "episode 3000 score 47.000000 avg_score 54.5 epsilon 0.01\n",
            "episode 3100 score 53.000000 avg_score 54.5 epsilon 0.01\n",
            "episode 3200 score 63.000000 avg_score 53.2 epsilon 0.01\n",
            "episode 3300 score 149.000000 avg_score 55.2 epsilon 0.01\n",
            "episode 3400 score 57.000000 avg_score 53.1 epsilon 0.01\n",
            "episode 3500 score 39.000000 avg_score 54.0 epsilon 0.01\n",
            "episode 3600 score 39.000000 avg_score 52.8 epsilon 0.01\n",
            "episode 3700 score 47.000000 avg_score 52.6 epsilon 0.01\n",
            "episode 3800 score 71.000000 avg_score 49.0 epsilon 0.01\n",
            "episode 3900 score 41.000000 avg_score 53.8 epsilon 0.01\n",
            "episode 4000 score 60.000000 avg_score 54.7 epsilon 0.01\n",
            "episode 4100 score 59.000000 avg_score 55.7 epsilon 0.01\n",
            "episode 4200 score 47.000000 avg_score 55.1 epsilon 0.01\n",
            "episode 4300 score 49.000000 avg_score 54.2 epsilon 0.01\n",
            "episode 4400 score 56.000000 avg_score 55.4 epsilon 0.01\n",
            "episode 4500 score 78.000000 avg_score 52.0 epsilon 0.01\n",
            "episode 4600 score 69.000000 avg_score 53.3 epsilon 0.01\n",
            "episode 4700 score 59.000000 avg_score 54.9 epsilon 0.01\n",
            "episode 4800 score 65.000000 avg_score 56.4 epsilon 0.01\n",
            "episode 4900 score 67.000000 avg_score 58.6 epsilon 0.01\n",
            "episode 5000 score 57.000000 avg_score 54.6 epsilon 0.01\n",
            "episode 5100 score 86.000000 avg_score 51.3 epsilon 0.01\n",
            "episode 5200 score 37.000000 avg_score 50.3 epsilon 0.01\n",
            "episode 5300 score 89.000000 avg_score 54.2 epsilon 0.01\n",
            "episode 5400 score 50.000000 avg_score 54.4 epsilon 0.01\n",
            "episode 5500 score 65.000000 avg_score 55.2 epsilon 0.01\n",
            "episode 5600 score 38.000000 avg_score 56.0 epsilon 0.01\n",
            "episode 5700 score 71.000000 avg_score 51.6 epsilon 0.01\n",
            "episode 5800 score 80.000000 avg_score 56.0 epsilon 0.01\n",
            "episode 5900 score 52.000000 avg_score 55.5 epsilon 0.01\n",
            "episode 6000 score 40.000000 avg_score 52.2 epsilon 0.01\n",
            "episode 6100 score 53.000000 avg_score 56.4 epsilon 0.01\n",
            "episode 6200 score 31.000000 avg_score 53.0 epsilon 0.01\n",
            "episode 6300 score 39.000000 avg_score 54.4 epsilon 0.01\n",
            "episode 6400 score 32.000000 avg_score 50.9 epsilon 0.01\n",
            "episode 6500 score 55.000000 avg_score 51.9 epsilon 0.01\n",
            "episode 6600 score 44.000000 avg_score 51.6 epsilon 0.01\n",
            "episode 6700 score 42.000000 avg_score 59.5 epsilon 0.01\n",
            "episode 6800 score 39.000000 avg_score 52.5 epsilon 0.01\n",
            "episode 6900 score 43.000000 avg_score 52.8 epsilon 0.01\n",
            "episode 7000 score 39.000000 avg_score 52.5 epsilon 0.01\n",
            "episode 7100 score 65.000000 avg_score 53.5 epsilon 0.01\n",
            "episode 7200 score 36.000000 avg_score 55.3 epsilon 0.01\n",
            "episode 7300 score 85.000000 avg_score 55.3 epsilon 0.01\n",
            "episode 7400 score 38.000000 avg_score 52.3 epsilon 0.01\n",
            "episode 7500 score 31.000000 avg_score 54.4 epsilon 0.01\n",
            "episode 7600 score 49.000000 avg_score 53.6 epsilon 0.01\n",
            "episode 7700 score 63.000000 avg_score 53.7 epsilon 0.01\n",
            "episode 7800 score 50.000000 avg_score 57.9 epsilon 0.01\n",
            "episode 7900 score 47.000000 avg_score 51.3 epsilon 0.01\n",
            "episode 8000 score 49.000000 avg_score 53.2 epsilon 0.01\n",
            "episode 8100 score 58.000000 avg_score 49.9 epsilon 0.01\n",
            "episode 8200 score 44.000000 avg_score 54.8 epsilon 0.01\n",
            "episode 8300 score 52.000000 avg_score 52.6 epsilon 0.01\n",
            "episode 8400 score 58.000000 avg_score 51.5 epsilon 0.01\n",
            "episode 8500 score 44.000000 avg_score 53.5 epsilon 0.01\n",
            "episode 8600 score 36.000000 avg_score 57.8 epsilon 0.01\n",
            "episode 8700 score 41.000000 avg_score 52.3 epsilon 0.01\n",
            "episode 8800 score 44.000000 avg_score 54.8 epsilon 0.01\n",
            "episode 8900 score 54.000000 avg_score 53.4 epsilon 0.01\n",
            "episode 9000 score 71.000000 avg_score 54.8 epsilon 0.01\n",
            "episode 9100 score 70.000000 avg_score 54.9 epsilon 0.01\n",
            "episode 9200 score 32.000000 avg_score 55.5 epsilon 0.01\n",
            "episode 9300 score 46.000000 avg_score 54.4 epsilon 0.01\n",
            "episode 9400 score 83.000000 avg_score 52.0 epsilon 0.01\n",
            "episode 9500 score 67.000000 avg_score 52.0 epsilon 0.01\n",
            "episode 9600 score 35.000000 avg_score 54.5 epsilon 0.01\n",
            "episode 9700 score 47.000000 avg_score 52.7 epsilon 0.01\n",
            "episode 9800 score 62.000000 avg_score 55.0 epsilon 0.01\n",
            "episode 9900 score 35.000000 avg_score 53.6 epsilon 0.01\n"
          ],
          "name": "stdout"
        }
      ]
    },
    {
      "cell_type": "code",
      "metadata": {
        "id": "TGHeffq-FTci",
        "colab_type": "code",
        "colab": {}
      },
      "source": [
        ""
      ],
      "execution_count": 0,
      "outputs": []
    },
    {
      "cell_type": "code",
      "metadata": {
        "id": "J_JCUX3azgHl",
        "colab_type": "code",
        "outputId": "d61fd49c-0451-45d9-e6a9-1455aabcfc8c",
        "colab": {
          "base_uri": "https://localhost:8080/",
          "height": 279
        }
      },
      "source": [
        "plot_learning_curve(x, scores, eps_history, filename)"
      ],
      "execution_count": 0,
      "outputs": [
        {
          "output_type": "display_data",
          "data": {
            "image/png": "[encoded data removed]",
            "text/plain": [
              "<Figure size 432x288 with 2 Axes>"
            ]
          },
          "metadata": {
            "tags": []
          }
        }
      ]
    },
    {
      "cell_type": "code",
      "metadata": {
        "id": "fBQW0q3XvYC0",
        "colab_type": "code",
        "outputId": "36050b0d-827d-47b8-c357-795b2a5b10cd",
        "colab": {
          "base_uri": "https://localhost:8080/",
          "height": 279
        }
      },
      "source": [
        "plot_learning_curve(x, scores, eps_history, filename)"
      ],
      "execution_count": 0,
      "outputs": [
        {
          "output_type": "display_data",
          "data": {
            "image/png": "[encoded data removed]",
            "text/plain": [
              "<Figure size 432x288 with 2 Axes>"
            ]
          },
          "metadata": {
            "tags": []
          }
        }
      ]
    },
    {
      "cell_type": "code",
      "metadata": {
        "id": "3fXE8nWxUeK5",
        "colab_type": "code",
        "colab": {}
      },
      "source": [
        ""
      ],
      "execution_count": 0,
      "outputs": []
    },
    {
      "cell_type": "code",
      "metadata": {
        "id": "4aJHOdsjFSUl",
        "colab_type": "code",
        "colab": {}
      },
      "source": [
        ""
      ],
      "execution_count": 0,
      "outputs": []
    },
    {
      "cell_type": "code",
      "metadata": {
        "id": "KUd40RzSUosM",
        "colab_type": "code",
        "colab": {}
      },
      "source": [
        ""
      ],
      "execution_count": 0,
      "outputs": []
    }
  ]
}