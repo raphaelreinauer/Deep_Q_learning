{
  "nbformat": 4,
  "nbformat_minor": 0,
  "metadata": {
    "colab": {
      "name": "DQL.ipynb",
      "provenance": [],
      "collapsed_sections": [],
      "authorship_tag": "ABX9TyNTSnpvPH0t/qxL3Ip5opDq",
      "include_colab_link": true
    },
    "kernelspec": {
      "name": "python3",
      "display_name": "Python 3"
    },
    "accelerator": "GPU"
  },
  "cells": [
    {
      "cell_type": "markdown",
      "metadata": {
        "id": "view-in-github",
        "colab_type": "text"
      },
      "source": [
        "<a href=\"https://colab.research.google.com/github/raphaelreinauer/Deep_Q_learning/blob/master/DQL.ipynb\" target=\"_parent\"><img src=\"https://colab.research.google.com/assets/colab-badge.svg\" alt=\"Open In Colab\"/></a>"
      ]
    },
    {
      "cell_type": "code",
      "metadata": {
        "id": "gA6wOHqTUZdd",
        "colab_type": "code",
        "colab": {}
      },
      "source": [
        "import gym\n",
        "import numpy as np\n",
        "import matplotlib.pyplot as plt\n",
        "import torch.nn as nn\n",
        "import torch.nn.functional as F\n",
        "import torch.optim as optim\n",
        "import torch as T\n",
        "\n",
        "class LinearDeepQNetwork(nn.Module):\n",
        "    def __init__(self, lr, n_actions, imput_dims):\n",
        "        super(LinearDeepQNetwork, self).__init__()\n",
        "\n",
        "        #first fully connected layer with 128 neurons\n",
        "        self.fc1 = nn.Linear(*input_dims, 128)\n",
        "        #output layer\n",
        "        self.fc2 = nn.Linear(128, n_actions)\n",
        "\n",
        "        self.optimizer = optim.Adam(self.parameters(), lr=lr)\n",
        "        self.loss = nn.MSELoss()\n",
        "        T.device('cuda:0' if T.cuda.is_available() else 'cpu')\n",
        "        self.to(self.device)\n",
        "\n",
        "    def forward(self, state):\n",
        "        layer1 = F.relu(self.fc1(state))\n",
        "        actions = self.fc2(layer1)\n",
        "\n",
        "        return actions\n",
        "\n",
        "class Agent():\n",
        "    def __init__(self, input_dims, n_actions, lr, gamma=0.99,\\\n",
        "                 epsilon=1.0, eps_dec=1e-5, eps_min=0.01):\n",
        "        self.lr = lr\n",
        "        self.input_dims = input_dims\n",
        "        self.n_actions = n_actions\n",
        "        self.gamma = gamma\n",
        "        self.epsilon = epsilon\n",
        "        self.eps_dec = eps_dec\n",
        "        self.eps_min = eps_min\n",
        "        self.action_space = [i for i in range(self.n_actions)]\n",
        "\n",
        "        self.Q = LinearDeepQNetwork(self.lr, self.n_actions, self.input_dims)\n",
        "\n",
        "    def choose_action(self, observation):\n",
        "        if np.random.random() > self.epsilon:\n",
        "            state = T.tensor(observation, dtype=T.float).to(self.Q.device)\n",
        "            actions = self.Q.forward(state)\n",
        "            action = T.argmax(actions).item()\n",
        "        else:\n",
        "            action = np.random.choice(self.action_space)\n",
        "\n",
        "        return action\n",
        "\n",
        "    def decrement_epsilon(self):\n",
        "        self.epsilon = self.epsilon - self.eps_dec \\\n",
        "                if self.epsilon > self.eps_min else self.eps_min\n",
        "    def learn(self, state, action, reward, state_):\n",
        "        self.Q.optimizer.zero_grad()\n",
        "        states = T.tensor(state, dtype=T.float).to(self.Q.device)\n",
        "        actions = T.tensor(action).to(self.Q.device)\n",
        "        reward = T.tensor(reward).to(self.Q.device)\n",
        "        state_ = T.tensor(state_).to(self.Q.device)\n",
        "\n",
        "        q_pred = self.Q.forward(states)[actions]\n",
        "\n",
        "        q_next = self.Q.forward(states_).max()\n",
        "\n",
        "        q_target = reward + self.gamma*q_next\n",
        "\n",
        "        loss = self.Q.loss(q_target, q_pred).to(self.Q.device)\n",
        "        loss.Q.optimizer.step()\n",
        "        self.decrement_epsilon()\n",
        "\n",
        "if __name__ == '__main__':\n",
        "    env = gym.make('CartPole-v1')\n",
        "    n_games = 1000\n",
        "    scores = []\n",
        "    eps_history = []\n",
        "\n",
        "    agent = Agent(input_dims=env.observation_space.shape,\n",
        "                  n_actions=env.action_space.n)\n",
        "    for i in range(n_games):\n",
        "        score = 0\n",
        "        done = False\n",
        "        obs = env.reset()\n",
        "\n",
        "        while not done:\n",
        "            action = agent.choose_action(obs)\n",
        "            obs_, reward, done, info = env.step(action)\n",
        "            score += reward\n",
        "            agent.learn(obs, action, reward, obs_)\n",
        "            obs = obs_\n",
        "        scores.append(score)\n",
        "        eps_history.append(agent.epsilon)\n",
        "\n",
        "        if i%100 == 0:\n",
        "            avg_score = np.mean(scores[-100:])\n",
        "            print('episode', i, 'score %1f' avg score %.1f epsilon %.2f' %\n",
        "            (score, avg_score, agent.epsilon))\n",
        "\n",
        "    filename = 'cartpolse_naiv_dqn.png'\n",
        "    x = [i+1 for i in range(n_games)]\n",
        "    plot_learning_curve(x, scores, eps_history, filename)\n",
        "\n",
        "def plot_learning_curve(x, scores, epsilons, filename):\n",
        "    "
      ],
      "execution_count": 0,
      "outputs": []
    },
    {
      "cell_type": "code",
      "metadata": {
        "id": "3fXE8nWxUeK5",
        "colab_type": "code",
        "colab": {
          "base_uri": "https://localhost:8080/",
          "height": 34
        },
        "outputId": "9d5cb813-1d3d-44ea-e712-c9be2e4b7a3f"
      },
      "source": [
        ""
      ],
      "execution_count": 3,
      "outputs": [
        {
          "output_type": "execute_result",
          "data": {
            "text/plain": [
              "device(type='cuda', index=0)"
            ]
          },
          "metadata": {
            "tags": []
          },
          "execution_count": 3
        }
      ]
    },
    {
      "cell_type": "code",
      "metadata": {
        "id": "KUd40RzSUosM",
        "colab_type": "code",
        "colab": {}
      },
      "source": [
        ""
      ],
      "execution_count": 0,
      "outputs": []
    }
  ]
}