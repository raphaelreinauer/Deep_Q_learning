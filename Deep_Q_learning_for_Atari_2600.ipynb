{
  "nbformat": 4,
  "nbformat_minor": 0,
  "metadata": {
    "colab": {
      "name": "Deep Q-learning for Atari 2600.ipynb",
      "provenance": [],
      "collapsed_sections": [],
      "authorship_tag": "ABX9TyPHJfnJXP/Ux554sqYUA3L8",
      "include_colab_link": true
    },
    "kernelspec": {
      "name": "python3",
      "display_name": "Python 3"
    }
  },
  "cells": [
    {
      "cell_type": "markdown",
      "metadata": {
        "id": "view-in-github",
        "colab_type": "text"
      },
      "source": [
        "<a href=\"https://colab.research.google.com/github/raphaelreinauer/Deep_Q_learning/blob/master/Deep_Q_learning_for_Atari_2600.ipynb\" target=\"_parent\"><img src=\"https://colab.research.google.com/assets/colab-badge.svg\" alt=\"Open In Colab\"/></a>"
      ]
    },
    {
      "cell_type": "markdown",
      "metadata": {
        "id": "qB5_S-xU9BGV",
        "colab_type": "text"
      },
      "source": [
        "# Deep Q-learning for Atari 2600\n",
        "This is my implementation of the Deep Q-learning algorithm described in https://www.nature.com/articles/nature14236\n",
        "for the implementation of an agent learning to play Atari 2600 games by reinforcement learning."
      ]
    },
    {
      "cell_type": "code",
      "metadata": {
        "id": "-d6Gp9tM8fyy",
        "colab_type": "code",
        "colab": {}
      },
      "source": [
        "# importing necessary libaries\n",
        "import gym\n",
        "import numpy as np\n",
        "import matplotlib.pyplot as plt\n",
        "import cv2\n",
        "from PIL import Image\n",
        "import random\n",
        "import torch.nn as nn\n",
        "import torch.nn.functional as F\n",
        "import torch.optim as optim\n",
        "import torch as T\n"
      ],
      "execution_count": 0,
      "outputs": []
    },
    {
      "cell_type": "code",
      "metadata": {
        "id": "gWuhIZjm8n9h",
        "colab_type": "code",
        "colab": {}
      },
      "source": [
        "'''\n",
        "Constructing a wrapper for preprocessing the frames generated\n",
        "by the openai atari environment\n",
        "We will use openai gym wrappers described in\n",
        "https://github.com/openai/gym/tree/master/gym/wrappers\n",
        "\n",
        "Furthermore, I used the blog entry:\n",
        "https://hub.packtpub.com/openai-gym-environments-wrappers-and-monitors-tutorial/\n",
        "The hirachy is as follows:\n",
        "Enc -> Wrapper --> ObservationWrapper (redefine observation-method,\n",
        "                                    input: observation by the environment,\n",
        "                                    output: observation passed to the agent)\n",
        "               \\-> ActionWrapper (redefine action-method)\n",
        "               \\-> RewardWrapper (redefine reward-method)\n",
        "'''\n",
        "\n",
        "class MaxFrame(gym.Wrapper):\n",
        "    '''\n",
        "    Returns the maximum of two consecutive frames\n",
        "    '''\n",
        "    #def __init__(self, env):\n",
        "    #    super(MaxFrame,self).__init__(env)\n",
        "    #    self.repeat = repeat\n",
        "\n",
        "    def step(self, action):\n",
        "        '''\n",
        "        Overwrite step function\n",
        "        input: action\n",
        "        output: max_frame, total_reward, done, info\n",
        "        '''\n",
        "        total_reward = 0\n",
        "        done = False\n",
        "        # perform 2 steps with action = action\n",
        "        for i in range(2):\n",
        "            obs, reward, done, info = super().step(action)\n",
        "            total_reward += total_reward\n",
        "            frame_buffer[i,:] = obs\n",
        "            if done:\n",
        "                break\n",
        "\n",
        "        # Compute entrywise maximum of the frames in frame_buffer\n",
        "        max_frame = np.maximum(frame_buffer[0], frame_buffer[1]).astype(int)\n",
        "        return max_frame, total_reward, done, info\n",
        "\n",
        "    def reset(self):\n",
        "        observation = super(MaxFrame,self).reset(env)\n",
        "        \n",
        "        # initialize frame_buffer\n",
        "        self.frame_buffer = np.zeros((2,*(observation.shape)))\n",
        "        self.frame_buffer[0] = observation\n",
        "        return observation\n",
        "\n",
        "class RescaleGrayscaleFrame(gym.ObservationWrapper):\n",
        "    '''\n",
        "    transform frame to grayscale\n",
        "    reset observation space to new form (rescale_shape)\n",
        "    (swapping channel axis (gym.spaces.Box))\n",
        "    rescaling color channel to [0,1]\n",
        "    '''\n",
        "\n",
        "    def __init__(self, env, rescale_shape):\n",
        "        super(RescaleGrayscaleFrame, self).__init__(env)\n",
        "        self.observation_space.shape = rescale_shape\n",
        "\n",
        "        # Rescale observation space to [0,1] see:\n",
        "        # https://www.programcreek.com/python/example/97539/gym.spaces.Box\n",
        "        self.observation_space = spaces.Box(low=0.,high=1.,shape=self.shape)\n",
        "\n",
        "\n",
        "    def observation(self, observation):\n",
        "        '''\n",
        "        input = old observation\n",
        "        output = transformed observation\n",
        "        '''\n",
        "\n",
        "        # grayscale frame, see:\n",
        "        # https://www.kite.com/python/answers/how-to-convert-an-image-from-rgb-to-grayscale-in-python\n",
        "        rgb_weights = [0.2989, 0.5870, 0.1140]\n",
        "\n",
        "        observation = np.dot(obs_50, rgb_weights)\n",
        "    \n",
        "        # resize image from\n",
        "        # https://medium.com/@manivannan_data/resize-image-using-opencv-python-d2cdbbc480f0\n",
        "        observation = cv2.resize(observation,(84,84))\n",
        "\n",
        "        # normalize to [0,1]\n",
        "        observation /= 255\n",
        "\n",
        "        return observation\n",
        "\n",
        "class StackFrames(gym.ObservationWrapper):\n",
        "    def __init__(self, env, stack_size):\n",
        "        super(StackFrames,self).__init__(env)\n",
        "        self.observation_space = spaces.Box(low=0.,high=1.,shape=self.shape)\n",
        "        # implementing frame_stack as deque\n",
        "        self.frame_stack = deque()\n",
        "\n",
        "\n",
        "    def reset(self):\n",
        "\n",
        "        self.frame_stack.clear()\n",
        "\n",
        "    def observation(observation):\n",
        "        '''\n",
        "        input: observation\n",
        "        output: stack af\n",
        "        '''\n",
        "\n",
        "\n",
        "\n",
        "    # observation function (use deques)\n",
        "    def make_env(self, env, rescale_shape, stack_size):\n",
        "        env = MaxFrame(env)\n",
        "        env = PreprocessFrame(env, rescale_shape)\n",
        "        env = StackFrames(env, stack_size)\n",
        "        return env\n"
      ],
      "execution_count": 0,
      "outputs": []
    },
    {
      "cell_type": "code",
      "metadata": {
        "id": "OrwABQJ19Atp",
        "colab_type": "code",
        "colab": {}
      },
      "source": [
        "env = gym.make('PongNoFrameskip-v4')\n",
        "env = MaxFrame(env)\n",
        "observation = env.reset()\n",
        "#plt.imshow(observation)\n",
        "#plt.show()\n",
        "\n",
        "for _ in range(50):\n",
        "    env.step(1)"
      ],
      "execution_count": 0,
      "outputs": []
    },
    {
      "cell_type": "code",
      "metadata": {
        "id": "nP9FWagQ-xJ_",
        "colab_type": "code",
        "colab": {
          "base_uri": "https://localhost:8080/",
          "height": 536
        },
        "outputId": "5fad7574-42a8-4174-ff7c-b52d38c3c0ba"
      },
      "source": [
        "obs_50 = env.step(1)[0]\n",
        "\n",
        "rgb_weights = [0.2989, 0.5870, 0.1140]\n",
        "\n",
        "grayscale_image = np.dot(obs_50, rgb_weights)\n",
        "\n",
        "\n",
        "plt.imshow(obs_50)\n",
        "plt.show()\n",
        "\n",
        "plt.imshow(grayscale_image, cmap='gray')\n",
        "\n",
        "grayscale_image=cv2.resize(grayscale_image,(84,84))\n",
        "plt.imshow(grayscale_image, cmap='gray')\n",
        "grayscale_image.shape"
      ],
      "execution_count": 168,
      "outputs": [
        {
          "output_type": "display_data",
          "data": {
            "image/png": "[encoded data removed]",
            "text/plain": [
              "<Figure size 432x288 with 1 Axes>"
            ]
          },
          "metadata": {
            "tags": [],
            "needs_background": "light"
          }
        },
        {
          "output_type": "execute_result",
          "data": {
            "text/plain": [
              "(84, 84)"
            ]
          },
          "metadata": {
            "tags": []
          },
          "execution_count": 168
        },
        {
          "output_type": "display_data",
          "data": {
            "image/png": "[encoded data removed]",
            "text/plain": [
              "<Figure size 432x288 with 1 Axes>"
            ]
          },
          "metadata": {
            "tags": [],
            "needs_background": "light"
          }
        }
      ]
    },
    {
      "cell_type": "code",
      "metadata": {
        "id": "qvL2sk6h1bOi",
        "colab_type": "code",
        "colab": {
          "base_uri": "https://localhost:8080/",
          "height": 66
        },
        "outputId": "2d264681-a2a3-4df4-917f-46247898ede1"
      },
      "source": [
        "deque(np.array[1,2,3],np.array[5,6,7])"
      ],
      "execution_count": 100,
      "outputs": [
        {
          "output_type": "execute_result",
          "data": {
            "text/plain": [
              "array([[0., 0., 0., 0.],\n",
              "       [0., 0., 0., 0.],\n",
              "       [0., 0., 0., 0.]])"
            ]
          },
          "metadata": {
            "tags": []
          },
          "execution_count": 100
        }
      ]
    },
    {
      "cell_type": "code",
      "metadata": {
        "id": "R3Q-HFqv07r6",
        "colab_type": "code",
        "colab": {
          "base_uri": "https://localhost:8080/",
          "height": 296
        },
        "outputId": "a9df87c3-6b19-404c-f87e-77b93d58c709"
      },
      "source": [
        "env.shape"
      ],
      "execution_count": 146,
      "outputs": [
        {
          "output_type": "error",
          "ename": "AttributeError",
          "evalue": "ignored",
          "traceback": [
            "\u001b[0;31m---------------------------------------------------------------------------\u001b[0m",
            "\u001b[0;31mAttributeError\u001b[0m                            Traceback (most recent call last)",
            "\u001b[0;32m<ipython-input-146-f8b326145045>\u001b[0m in \u001b[0;36m<module>\u001b[0;34m()\u001b[0m\n\u001b[0;32m----> 1\u001b[0;31m \u001b[0menv\u001b[0m\u001b[0;34m.\u001b[0m\u001b[0mshape\u001b[0m\u001b[0;34m\u001b[0m\u001b[0;34m\u001b[0m\u001b[0m\n\u001b[0m",
            "\u001b[0;32m/usr/local/lib/python3.6/dist-packages/gym/core.py\u001b[0m in \u001b[0;36m__getattr__\u001b[0;34m(self, name)\u001b[0m\n\u001b[1;32m    216\u001b[0m         \u001b[0;32mif\u001b[0m \u001b[0mname\u001b[0m\u001b[0;34m.\u001b[0m\u001b[0mstartswith\u001b[0m\u001b[0;34m(\u001b[0m\u001b[0;34m'_'\u001b[0m\u001b[0;34m)\u001b[0m\u001b[0;34m:\u001b[0m\u001b[0;34m\u001b[0m\u001b[0;34m\u001b[0m\u001b[0m\n\u001b[1;32m    217\u001b[0m             \u001b[0;32mraise\u001b[0m \u001b[0mAttributeError\u001b[0m\u001b[0;34m(\u001b[0m\u001b[0;34m\"attempted to get missing private attribute '{}'\"\u001b[0m\u001b[0;34m.\u001b[0m\u001b[0mformat\u001b[0m\u001b[0;34m(\u001b[0m\u001b[0mname\u001b[0m\u001b[0;34m)\u001b[0m\u001b[0;34m)\u001b[0m\u001b[0;34m\u001b[0m\u001b[0;34m\u001b[0m\u001b[0m\n\u001b[0;32m--> 218\u001b[0;31m         \u001b[0;32mreturn\u001b[0m \u001b[0mgetattr\u001b[0m\u001b[0;34m(\u001b[0m\u001b[0mself\u001b[0m\u001b[0;34m.\u001b[0m\u001b[0menv\u001b[0m\u001b[0;34m,\u001b[0m \u001b[0mname\u001b[0m\u001b[0;34m)\u001b[0m\u001b[0;34m\u001b[0m\u001b[0;34m\u001b[0m\u001b[0m\n\u001b[0m\u001b[1;32m    219\u001b[0m \u001b[0;34m\u001b[0m\u001b[0m\n\u001b[1;32m    220\u001b[0m     \u001b[0;34m@\u001b[0m\u001b[0mproperty\u001b[0m\u001b[0;34m\u001b[0m\u001b[0;34m\u001b[0m\u001b[0m\n",
            "\u001b[0;32m/usr/local/lib/python3.6/dist-packages/gym/core.py\u001b[0m in \u001b[0;36m__getattr__\u001b[0;34m(self, name)\u001b[0m\n\u001b[1;32m    216\u001b[0m         \u001b[0;32mif\u001b[0m \u001b[0mname\u001b[0m\u001b[0;34m.\u001b[0m\u001b[0mstartswith\u001b[0m\u001b[0;34m(\u001b[0m\u001b[0;34m'_'\u001b[0m\u001b[0;34m)\u001b[0m\u001b[0;34m:\u001b[0m\u001b[0;34m\u001b[0m\u001b[0;34m\u001b[0m\u001b[0m\n\u001b[1;32m    217\u001b[0m             \u001b[0;32mraise\u001b[0m \u001b[0mAttributeError\u001b[0m\u001b[0;34m(\u001b[0m\u001b[0;34m\"attempted to get missing private attribute '{}'\"\u001b[0m\u001b[0;34m.\u001b[0m\u001b[0mformat\u001b[0m\u001b[0;34m(\u001b[0m\u001b[0mname\u001b[0m\u001b[0;34m)\u001b[0m\u001b[0;34m)\u001b[0m\u001b[0;34m\u001b[0m\u001b[0;34m\u001b[0m\u001b[0m\n\u001b[0;32m--> 218\u001b[0;31m         \u001b[0;32mreturn\u001b[0m \u001b[0mgetattr\u001b[0m\u001b[0;34m(\u001b[0m\u001b[0mself\u001b[0m\u001b[0;34m.\u001b[0m\u001b[0menv\u001b[0m\u001b[0;34m,\u001b[0m \u001b[0mname\u001b[0m\u001b[0;34m)\u001b[0m\u001b[0;34m\u001b[0m\u001b[0;34m\u001b[0m\u001b[0m\n\u001b[0m\u001b[1;32m    219\u001b[0m \u001b[0;34m\u001b[0m\u001b[0m\n\u001b[1;32m    220\u001b[0m     \u001b[0;34m@\u001b[0m\u001b[0mproperty\u001b[0m\u001b[0;34m\u001b[0m\u001b[0;34m\u001b[0m\u001b[0m\n",
            "\u001b[0;31mAttributeError\u001b[0m: 'AtariEnv' object has no attribute 'shape'"
          ]
        }
      ]
    },
    {
      "cell_type": "code",
      "metadata": {
        "id": "6bajHbXP_cdX",
        "colab_type": "code",
        "colab": {
          "base_uri": "https://localhost:8080/",
          "height": 268
        },
        "outputId": "ebc215b2-0127-4801-827a-27277b8da1c7"
      },
      "source": [
        "#env.reset()\n",
        "for _ in range(500):\n",
        "    env.step(1)[0]\n",
        "plt.imshow(env.step(1)[0])\n",
        "plt.show()"
      ],
      "execution_count": 126,
      "outputs": [
        {
          "output_type": "display_data",
          "data": {
            "image/png": "[encoded data removed]",
            "text/plain": [
              "<Figure size 432x288 with 1 Axes>"
            ]
          },
          "metadata": {
            "tags": [],
            "needs_background": "light"
          }
        }
      ]
    },
    {
      "cell_type": "code",
      "metadata": {
        "id": "TeNuVgO6baXc",
        "colab_type": "code",
        "colab": {
          "base_uri": "https://localhost:8080/",
          "height": 285
        },
        "outputId": "5da6f385-dc14-4faa-f67d-3a92b5c048ea"
      },
      "source": [
        "plt.imshow(env.step(1)[0])\n",
        "plt.show()"
      ],
      "execution_count": 66,
      "outputs": [
        {
          "output_type": "stream",
          "text": [
            "2\n"
          ],
          "name": "stdout"
        },
        {
          "output_type": "display_data",
          "data": {
            "image/png": "[encoded data removed]",
            "text/plain": [
              "<Figure size 432x288 with 1 Axes>"
            ]
          },
          "metadata": {
            "tags": [],
            "needs_background": "light"
          }
        }
      ]
    },
    {
      "cell_type": "code",
      "metadata": {
        "id": "jNYZMUs_cUiO",
        "colab_type": "code",
        "colab": {}
      },
      "source": [
        ""
      ],
      "execution_count": 0,
      "outputs": []
    }
  ]
}