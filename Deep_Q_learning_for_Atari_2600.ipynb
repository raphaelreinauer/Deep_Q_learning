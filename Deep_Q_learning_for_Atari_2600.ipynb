{
  "nbformat": 4,
  "nbformat_minor": 0,
  "metadata": {
    "colab": {
      "name": "Deep Q-learning for Atari 2600.ipynb",
      "provenance": [],
      "authorship_tag": "ABX9TyPyBZeptWoZBOQqXeXuZT2t",
      "include_colab_link": true
    },
    "kernelspec": {
      "name": "python3",
      "display_name": "Python 3"
    }
  },
  "cells": [
    {
      "cell_type": "markdown",
      "metadata": {
        "id": "view-in-github",
        "colab_type": "text"
      },
      "source": [
        "<a href=\"https://colab.research.google.com/github/raphaelreinauer/Deep_Q_learning/blob/master/Deep_Q_learning_for_Atari_2600.ipynb\" target=\"_parent\"><img src=\"https://colab.research.google.com/assets/colab-badge.svg\" alt=\"Open In Colab\"/></a>"
      ]
    },
    {
      "cell_type": "markdown",
      "metadata": {
        "id": "qB5_S-xU9BGV",
        "colab_type": "text"
      },
      "source": [
        "# Deep Q-learning for Atari 2600\n",
        "This is my implementation of the Deep Q-learning algorithm described in https://www.nature.com/articles/nature14236\n",
        "for the implementation of an agent learning to play Atari 2600 games by reinforcement learning."
      ]
    },
    {
      "cell_type": "code",
      "metadata": {
        "id": "-d6Gp9tM8fyy",
        "colab_type": "code",
        "colab": {}
      },
      "source": [
        "# importing necessary libaries\n",
        "import gym\n",
        "import numpy as np\n",
        "import matplotlib.pyplot as plt\n",
        "import torch.nn as nn\n",
        "import torch.nn.functional as F\n",
        "import torch.optim as optim\n",
        "import torch as T"
      ],
      "execution_count": 0,
      "outputs": []
    },
    {
      "cell_type": "code",
      "metadata": {
        "id": "gWuhIZjm8n9h",
        "colab_type": "code",
        "colab": {
          "base_uri": "https://localhost:8080/",
          "height": 34
        },
        "outputId": "2926889c-a0f4-4e1a-ead9-aa3d484d8005"
      },
      "source": [
        "'''\n",
        "Constructing a wrapper for preprocessing the frames generated\n",
        "by the openai atari libary\n",
        "'''\n"
      ],
      "execution_count": 2,
      "outputs": [
        {
          "output_type": "execute_result",
          "data": {
            "text/plain": [
              "'\\nConstructing a wrapper for preprocessing the frames generated\\nby the openai atari libary\\n'"
            ]
          },
          "metadata": {
            "tags": []
          },
          "execution_count": 2
        }
      ]
    },
    {
      "cell_type": "code",
      "metadata": {
        "id": "OrwABQJ19Atp",
        "colab_type": "code",
        "colab": {}
      },
      "source": [
        ""
      ],
      "execution_count": 0,
      "outputs": []
    }
  ]
}