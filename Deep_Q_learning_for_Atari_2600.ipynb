{
  "nbformat": 4,
  "nbformat_minor": 0,
  "metadata": {
    "colab": {
      "name": "Deep Q-learning for Atari 2600.ipynb",
      "provenance": [],
      "collapsed_sections": [],
      "authorship_tag": "ABX9TyNOGa9Fbf1mlQjPgBY+/PF4",
      "include_colab_link": true
    },
    "kernelspec": {
      "name": "python3",
      "display_name": "Python 3"
    }
  },
  "cells": [
    {
      "cell_type": "markdown",
      "metadata": {
        "id": "view-in-github",
        "colab_type": "text"
      },
      "source": [
        "<a href=\"https://colab.research.google.com/github/raphaelreinauer/Deep_Q_learning/blob/master/Deep_Q_learning_for_Atari_2600.ipynb\" target=\"_parent\"><img src=\"https://colab.research.google.com/assets/colab-badge.svg\" alt=\"Open In Colab\"/></a>"
      ]
    },
    {
      "cell_type": "markdown",
      "metadata": {
        "id": "qB5_S-xU9BGV",
        "colab_type": "text"
      },
      "source": [
        "# Deep Q-learning for Atari 2600\n",
        "This is my implementation of the Deep Q-learning algorithm described in https://www.nature.com/articles/nature14236\n",
        "for the implementation of an agent learning to play Atari 2600 games by reinforcement learning."
      ]
    },
    {
      "cell_type": "code",
      "metadata": {
        "id": "-d6Gp9tM8fyy",
        "colab_type": "code",
        "colab": {}
      },
      "source": [
        "# importing necessary libaries\n",
        "import gym\n",
        "import numpy as np\n",
        "import matplotlib.pyplot as plt\n",
        "import cv2\n",
        "import random\n",
        "import torch.nn as nn\n",
        "import torch.nn.functional as F\n",
        "import torch.optim as optim\n",
        "import torch as T\n"
      ],
      "execution_count": 0,
      "outputs": []
    },
    {
      "cell_type": "code",
      "metadata": {
        "id": "gWuhIZjm8n9h",
        "colab_type": "code",
        "colab": {}
      },
      "source": [
        "'''\n",
        "Constructing a wrapper for preprocessing the frames generated\n",
        "by the openai atari environment\n",
        "We will use openai gym wrappers described in\n",
        "https://github.com/openai/gym/tree/master/gym/wrappers\n",
        "\n",
        "Furthermore, I used the blog entry:\n",
        "https://hub.packtpub.com/openai-gym-environments-wrappers-and-monitors-tutorial/\n",
        "The hirachy is as follows:\n",
        "Enc -> Wrapper --> ObservationWrapper (redefine observation-method,\n",
        "                                    input: observation by the environment,\n",
        "                                    output: observation passed to the agent)\n",
        "               \\-> ActionWrapper (redefine action-method)\n",
        "               \\-> RewardWrapper (redefine reward-method)\n",
        "'''\n",
        "\n",
        "class MaxFrame(gym.Wrapper):\n",
        "    '''\n",
        "    Returns the maximum of two consecutive frame\n",
        "    '''\n",
        "    def __init__(self, env):\n",
        "        super().__init__(env)\n",
        "\n",
        "    def step(self, action):\n",
        "        '''\n",
        "        Overwrite step function\n",
        "        input: action\n",
        "        output: max_frame, total_reward, done, info\n",
        "        '''\n",
        "        total_reward = 0\n",
        "        done = False\n",
        "        frame_buffer=[]\n",
        "        for i in range(2):\n",
        "            obs, reward, done, info = super().step(action)\n",
        "            total_reward += total_reward\n",
        "            frame_buffer.append(obs)\n",
        "            if done:\n",
        "                break\n",
        "        # Compute entriwise maximum of the frames in frame_buffer\n",
        "        max_frame = np.maximum(frame_buffer[0], frame_buffer[1]).astype(int)\n",
        "        return max_frame, total_reward, done, info\n",
        "\n",
        "\n",
        "class RescaleGrayscaleFrame(gym.ObservationWrapper):\n",
        "    '''\n",
        "\n",
        "    reset observation space to new form\n",
        "\n",
        "    swapping channel axis (gym.spaces.Box)\n",
        "    '''\n",
        "    def observation(self,rescale_shape):\n",
        "        pass\n",
        "    \n",
        "    \n",
        "    '''\n",
        "    # from https://www.kite.com/python/answers/how-to-convert-an-image-from-rgb-to-grayscale-in-python\n",
        "    rgb_weights = [0.2989, 0.5870, 0.1140]\n",
        "\n",
        "    grayscale_image = np.dot(an_image[...,:3], rgb_weights)\n",
        "    '''\n",
        "    '''\n",
        "    resize image from\n",
        "    https://stackoverflow.com/questions/48121916/numpy-resize-rescale-image\n",
        "    img = cv2.imread('your_image.jpg')\n",
        "    res = cv2.resize(img, dsize=(84, 84), interpolation=cv2.INTER_CUBIC)\n",
        "    convert back to numpy array\n",
        "    '''\n",
        "\n",
        "class StackFrames(gym.ObservationWrapper):\n",
        "    pass"
      ],
      "execution_count": 0,
      "outputs": []
    },
    {
      "cell_type": "code",
      "metadata": {
        "id": "OrwABQJ19Atp",
        "colab_type": "code",
        "colab": {}
      },
      "source": [
        "env = gym.make('PongNoFrameskip-v4')\n",
        "env = MaxFrame(env)\n",
        "env.reset();\n",
        "#env.step(1)[0]"
      ],
      "execution_count": 0,
      "outputs": []
    },
    {
      "cell_type": "code",
      "metadata": {
        "id": "6bajHbXP_cdX",
        "colab_type": "code",
        "colab": {
          "base_uri": "https://localhost:8080/",
          "height": 269
        },
        "outputId": "679be1e8-432c-4633-a3bc-aa77a5b9d802"
      },
      "source": [
        "for _ in range(1000):\n",
        "    plt.imshow(env.step(1)[0])\n",
        "plt.show()"
      ],
      "execution_count": 78,
      "outputs": [
        {
          "output_type": "display_data",
          "data": {
            "image/png": "[encoded data removed]",
            "text/plain": [
              "<Figure size 432x288 with 1 Axes>"
            ]
          },
          "metadata": {
            "tags": [],
            "needs_background": "light"
          }
        }
      ]
    },
    {
      "cell_type": "code",
      "metadata": {
        "id": "TeNuVgO6baXc",
        "colab_type": "code",
        "colab": {
          "base_uri": "https://localhost:8080/",
          "height": 286
        },
        "outputId": "5da6f385-dc14-4faa-f67d-3a92b5c048ea"
      },
      "source": [
        "plt.imshow(env.step(1)[0])\n",
        "plt.show()"
      ],
      "execution_count": 66,
      "outputs": [
        {
          "output_type": "stream",
          "text": [
            "2\n"
          ],
          "name": "stdout"
        },
        {
          "output_type": "display_data",
          "data": {
            "image/png": "[encoded data removed]",
            "text/plain": [
              "<Figure size 432x288 with 1 Axes>"
            ]
          },
          "metadata": {
            "tags": [],
            "needs_background": "light"
          }
        }
      ]
    },
    {
      "cell_type": "code",
      "metadata": {
        "id": "jNYZMUs_cUiO",
        "colab_type": "code",
        "colab": {}
      },
      "source": [
        ""
      ],
      "execution_count": 0,
      "outputs": []
    }
  ]
}